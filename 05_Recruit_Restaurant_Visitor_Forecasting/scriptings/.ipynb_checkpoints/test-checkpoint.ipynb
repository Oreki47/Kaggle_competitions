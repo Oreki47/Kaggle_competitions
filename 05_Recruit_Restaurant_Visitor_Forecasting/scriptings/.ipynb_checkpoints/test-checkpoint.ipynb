{
 "cells": [
  {
   "cell_type": "code",
   "execution_count": 9,
   "metadata": {},
   "outputs": [
    {
     "name": "stdout",
     "output_type": "stream",
     "text": [
      "The autoreload extension is already loaded. To reload it, use:\n",
      "  %reload_ext autoreload\n"
     ]
    }
   ],
   "source": [
    "import sys\n",
    "import re\n",
    "import gc\n",
    "import time\n",
    "import numpy as np\n",
    "import pandas as pd\n",
    "import lightgbm as lgb\n",
    "\n",
    "sys.path.append(\"../\")\n",
    "from datetime import datetime\n",
    "from general.utilities import *\n",
    "from general.preprocess import *\n",
    "from general.clf_wrappers import LgbWrapper\n",
    "from features.f1 import features_set_f1\n",
    "from cv.cv_01 import cross_validate\n",
    "%load_ext autoreload\n",
    "%autoreload 2"
   ]
  },
  {
   "cell_type": "code",
   "execution_count": 19,
   "metadata": {},
   "outputs": [],
   "source": [
    "FEATURES, cat_ = features_set_f1()"
   ]
  },
  {
   "cell_type": "code",
   "execution_count": 25,
   "metadata": {},
   "outputs": [
    {
     "ename": "NameError",
     "evalue": "name 'XgbWrapper' is not defined",
     "output_type": "error",
     "traceback": [
      "\u001b[1;31m---------------------------------------------------------------------------\u001b[0m",
      "\u001b[1;31mNameError\u001b[0m                                 Traceback (most recent call last)",
      "\u001b[1;32m<ipython-input-25-808ce9e41241>\u001b[0m in \u001b[0;36m<module>\u001b[1;34m()\u001b[0m\n\u001b[0;32m     19\u001b[0m \u001b[1;33m\u001b[0m\u001b[0m\n\u001b[0;32m     20\u001b[0m \u001b[0mfull_data\u001b[0m\u001b[1;33m,\u001b[0m \u001b[0mntrain\u001b[0m\u001b[1;33m,\u001b[0m \u001b[0mntest\u001b[0m \u001b[1;33m=\u001b[0m \u001b[0mdata_preparation\u001b[0m\u001b[1;33m(\u001b[0m\u001b[1;33m)\u001b[0m\u001b[1;33m\u001b[0m\u001b[0m\n\u001b[1;32m---> 21\u001b[1;33m \u001b[0mxgb_clf\u001b[0m \u001b[1;33m=\u001b[0m \u001b[0mXgbWrapper\u001b[0m\u001b[1;33m(\u001b[0m\u001b[0mseed\u001b[0m\u001b[1;33m=\u001b[0m\u001b[0mSEED\u001b[0m\u001b[1;33m,\u001b[0m \u001b[0mparams\u001b[0m\u001b[1;33m=\u001b[0m\u001b[0mxgb_params\u001b[0m\u001b[1;33m)\u001b[0m\u001b[1;33m\u001b[0m\u001b[0m\n\u001b[0m\u001b[0;32m     22\u001b[0m results = cross_validate(\n\u001b[0;32m     23\u001b[0m     \u001b[0mfull_data\u001b[0m\u001b[1;33m=\u001b[0m\u001b[0mfull_data\u001b[0m\u001b[1;33m,\u001b[0m\u001b[1;33m\u001b[0m\u001b[0m\n",
      "\u001b[1;31mNameError\u001b[0m: name 'XgbWrapper' is not defined"
     ]
    }
   ],
   "source": [
    "xgb_params = dict()\n",
    "xgb_params['objective'] = 'reg:linear'\n",
    "xgb_params['eval_metric'] = 'rmse'\n",
    "xgb_params['eta'] = 0.02\n",
    "xgb_params['seed'] = SEED\n",
    "xgb_params['silent'] = True  # does help\n",
    "xgb_params['verbose_eval'] = False\n",
    "xgb_params['nrounds'] = 5000\n",
    "xgb_params['early_stopping_rounds'] = 100\n",
    "\n",
    "xgb_params['max_depth'] = 11\n",
    "xgb_params['min_child_weight'] = 2\n",
    "xgb_params['colsample_bytree'] = 0.758\n",
    "xgb_params['subsample'] = 0.936\n",
    "xgb_params['gamma'] = 0.715\n",
    "xgb_params['alpha'] = 9.85\n",
    "xgb_params['lambda'] = 1.85\n",
    "xgb_params['rate_drop'] = 0.869\n",
    "\n",
    "xgb_clf = XgbWrapper(seed=SEED, params=xgb_params)\n",
    "results = cross_validate(\n",
    "    full_data=full_data,\n",
    "    clf=xgb_clf,\n",
    "    seed=SEED,\n",
    "    ntrain=ntrain,\n",
    "    ntest=ntest,\n",
    "    features=FEATURES,\n",
    "    target=TARGET,\n",
    "    nfolds=4,\n",
    ")"
   ]
  },
  {
   "cell_type": "code",
   "execution_count": null,
   "metadata": {},
   "outputs": [],
   "source": [
    "print(1)"
   ]
  },
  {
   "cell_type": "code",
   "execution_count": 24,
   "metadata": {},
   "outputs": [
    {
     "data": {
      "text/plain": [
       "LGBMRegressor(boosting_type='gbdt', class_weight=None, colsample_bytree=0.9,\n",
       "       learning_rate=0.1, max_bin=100, max_depth=-1, min_child_samples=5,\n",
       "       min_child_weight=0.03, min_split_gain=0.0, n_estimators=20,\n",
       "       n_jobs=-1, num_leaves=32, objective='regression_l2',\n",
       "       random_state=177, reg_alpha=3.5, reg_lambda=4.2, silent=True,\n",
       "       subsample=0.93, subsample_for_bin=200000, subsample_freq=1)"
      ]
     },
     "execution_count": 24,
     "metadata": {},
     "output_type": "execute_result"
    }
   ],
   "source": []
  },
  {
   "cell_type": "code",
   "execution_count": null,
   "metadata": {},
   "outputs": [],
   "source": []
  }
 ],
 "metadata": {
  "kernelspec": {
   "display_name": "Python 3",
   "language": "python",
   "name": "python3"
  },
  "language_info": {
   "codemirror_mode": {
    "name": "ipython",
    "version": 3
   },
   "file_extension": ".py",
   "mimetype": "text/x-python",
   "name": "python",
   "nbconvert_exporter": "python",
   "pygments_lexer": "ipython3",
   "version": "3.6.3"
  }
 },
 "nbformat": 4,
 "nbformat_minor": 2
}
