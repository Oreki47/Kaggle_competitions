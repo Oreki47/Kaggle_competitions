{
 "cells": [
  {
   "cell_type": "code",
   "execution_count": 1,
   "metadata": {},
   "outputs": [],
   "source": [
    "##### import sys\n",
    "import re\n",
    "import gc\n",
    "import sys\n",
    "import numpy as np\n",
    "import pandas as pd\n",
    "import lightgbm as lgb\n",
    "\n",
    "from sklearn.model_selection import train_test_split, KFold\n",
    "from sklearn.metrics import mean_squared_log_error\n",
    "\n",
    "sys.path.append(\"../\")\n",
    "from general.preprocess import data_preparation\n",
    "from general.clf_wrappers import LgbWrapper\n",
    "from features.f0 import features_set_f0\n",
    "\n",
    "%load_ext autoreload\n",
    "%autoreload 2"
   ]
  },
  {
   "cell_type": "code",
   "execution_count": 2,
   "metadata": {},
   "outputs": [
    {
     "name": "stdout",
     "output_type": "stream",
     "text": [
      "air_store dataframe shape: (829, 57)\n"
     ]
    }
   ],
   "source": [
    "full_data, ntrain, ntest = data_preparation()"
   ]
  },
  {
   "cell_type": "code",
   "execution_count": 4,
   "metadata": {},
   "outputs": [
    {
     "name": "stdout",
     "output_type": "stream",
     "text": [
      "train data size: (252108, 123) test data size: (32019, 123)\n"
     ]
    }
   ],
   "source": [
    "trn = full_data[:ntrain]\n",
    "tst = full_data[ntrain:]\n",
    "print('train data size:', trn.shape, 'test data size:', tst.shape)"
   ]
  },
  {
   "cell_type": "code",
   "execution_count": 12,
   "metadata": {},
   "outputs": [],
   "source": [
    "TARGET = 'visitors'\n",
    "FEATURES = features_set_f0()\n",
    "SEED = 177\n",
    "lgb_params = {}\n",
    "lgb_params['n_estimators'] = 50\n",
    "lgb_params['learning_rate'] = 0.1 # shrinkage_rate\n",
    "lgb_params['metric'] = 'l1'          # or 'mae'\n",
    "lgb_params['sub_feature'] = 0.34\n",
    "lgb_params['bagging_fraction'] = 0.85 # sub_row\n",
    "lgb_params['bagging_freq'] = 40\n",
    "lgb_params['num_leaves'] = 512        # num_leaf\n",
    "lgb_params['min_data'] = 500         # min_data_in_leaf\n",
    "lgb_params['min_hessian'] = 0.05     # min_sum_hessian_in_leaf\n",
    "lgb_params['verbose'] = 0\n",
    "lgb_params['feature_fraction_seed'] = 2\n",
    "lgb_params['bagging_seed'] = 3"
   ]
  },
  {
   "cell_type": "code",
   "execution_count": 13,
   "metadata": {},
   "outputs": [],
   "source": [
    "from sklearn.metrics import mean_squared_log_error\n",
    "\n",
    "\n",
    "def score_valid(y_true, y_valid):\n",
    "    score = np.sqrt(mean_squared_log_error(y_true, y_valid))\n",
    "    return score\n",
    "\n",
    "def get_store_ids():\n",
    "    df = pd.read_csv('../data/air_store_info.csv')\n",
    "    return df['air_store_id']"
   ]
  },
  {
   "cell_type": "code",
   "execution_count": 25,
   "metadata": {},
   "outputs": [],
   "source": [
    "def cross_validate(full_data, clf, seed, ntrain, ntest, features, target, nfolds=5):\n",
    "    # prepare datasets used\n",
    "    trn = full_data[:ntrain]\n",
    "    tst = full_data[ntrain:]\n",
    "    \n",
    "    x_tst = tst[features].values\n",
    "\n",
    "    # define\n",
    "    oof_trn = np.zeros((ntrain,))\n",
    "    oof_tst = np.zeros((ntest,))\n",
    "    oof_tst_fld = np.empty((ntest, nfolds))\n",
    "    oof_score = [None] * 2\n",
    "\n",
    "    folds = KFold(n_splits=nfolds, shuffle=True, random_state=seed).split(trn.id)\n",
    "\n",
    "    for i, ids in enumerate(folds):\n",
    "        x_trn = trn.loc[ids[0], ][features].values\n",
    "        y_trn = trn.loc[ids[0], ][target].values\n",
    "        \n",
    "        x_vld = trn.loc[ids[1], ][features].values\n",
    "        y_vld = trn.loc[ids[1], ][features].values\n",
    "        \n",
    "        clf.train(x_trn, y_trn, x_vld, y_vld)\n",
    "        \n",
    "        oof_trn[ids[1]] = clf.predict(x_vld)\n",
    "        oof_tst_fld[:, i] = clf.predict(x_tst)\n",
    "\n",
    "        del x_trn, y_trn, x_vld, y_vld\n",
    "        gc.collect()\n",
    "\n",
    "    oof_tst[:] = oof_tst_fld.mean(axis=1)\n",
    "    oof_score[0] = score_valid(trn[target].values, oof_trn)\n",
    "    oof_score[1] = 0.1234\n",
    "\n",
    "    sub = tst[['id', target]]\n",
    "    trn = trn[['id', target]]\n",
    "    \n",
    "    sub[target] = oof_tst.reshape(-1, 1)\n",
    "    trn[target] = oof_trn.reshape(-1, 1)\n",
    "    \n",
    "    return sub, trn, None, oof_score"
   ]
  },
  {
   "cell_type": "code",
   "execution_count": 26,
   "metadata": {},
   "outputs": [
    {
     "name": "stdout",
     "output_type": "stream",
     "text": [
      "1\n"
     ]
    },
    {
     "name": "stderr",
     "output_type": "stream",
     "text": [
      "G:\\Anaconda2\\envs\\py36\\lib\\site-packages\\ipykernel_launcher.py:38: SettingWithCopyWarning: \n",
      "A value is trying to be set on a copy of a slice from a DataFrame.\n",
      "Try using .loc[row_indexer,col_indexer] = value instead\n",
      "\n",
      "See the caveats in the documentation: http://pandas.pydata.org/pandas-docs/stable/indexing.html#indexing-view-versus-copy\n"
     ]
    }
   ],
   "source": [
    "lgb_clf= LgbWrapper(seed=SEED, params=lgb_params)\n",
    "results = cross_validate(\n",
    "    full_data=full_data,\n",
    "    clf=lgb_clf,\n",
    "    seed=SEED,\n",
    "    ntrain=ntrain,\n",
    "    ntest=ntest,\n",
    "    features=FEATURES,\n",
    "    target=TARGET,\n",
    "    nfolds=5,\n",
    ")\n",
    "print(1)"
   ]
  },
  {
   "cell_type": "code",
   "execution_count": 27,
   "metadata": {},
   "outputs": [
    {
     "data": {
      "text/plain": [
       "[0.48625300908900526, 0.1234]"
      ]
     },
     "execution_count": 27,
     "metadata": {},
     "output_type": "execute_result"
    }
   ],
   "source": [
    "results[3]"
   ]
  },
  {
   "cell_type": "code",
   "execution_count": null,
   "metadata": {},
   "outputs": [],
   "source": []
  }
 ],
 "metadata": {
  "kernelspec": {
   "display_name": "Python 3",
   "language": "python",
   "name": "python3"
  },
  "language_info": {
   "codemirror_mode": {
    "name": "ipython",
    "version": 3
   },
   "file_extension": ".py",
   "mimetype": "text/x-python",
   "name": "python",
   "nbconvert_exporter": "python",
   "pygments_lexer": "ipython3",
   "version": "3.6.3"
  }
 },
 "nbformat": 4,
 "nbformat_minor": 2
}
