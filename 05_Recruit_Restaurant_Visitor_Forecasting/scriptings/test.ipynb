{
 "cells": [
  {
   "cell_type": "code",
   "execution_count": 26,
   "metadata": {},
   "outputs": [
    {
     "name": "stdout",
     "output_type": "stream",
     "text": [
      "The autoreload extension is already loaded. To reload it, use:\n",
      "  %reload_ext autoreload\n"
     ]
    }
   ],
   "source": [
    "import sys\n",
    "import re\n",
    "import gc\n",
    "import time\n",
    "import numpy as np\n",
    "import pandas as pd\n",
    "import lightgbm as lgb\n",
    "\n",
    "sys.path.append(\"../\")\n",
    "from datetime import datetime\n",
    "from general.utilities import *\n",
    "from general.preprocess import *\n",
    "from general.clf_wrappers import LgbWrapper, XgbWrapper\n",
    "from features.f1 import features_set_f1\n",
    "from cv.cv_01 import cross_validate\n",
    "%load_ext autoreload\n",
    "%autoreload 2"
   ]
  },
  {
   "cell_type": "code",
   "execution_count": 19,
   "metadata": {},
   "outputs": [],
   "source": [
    "FEATURES, cat_ = features_set_f1()"
   ]
  },
  {
   "cell_type": "code",
   "execution_count": 28,
   "metadata": {},
   "outputs": [
    {
     "name": "stderr",
     "output_type": "stream",
     "text": [
      "..\\cv\\cv_01.py:96: SettingWithCopyWarning: \n",
      "A value is trying to be set on a copy of a slice from a DataFrame.\n",
      "Try using .loc[row_indexer,col_indexer] = value instead\n",
      "\n",
      "See the caveats in the documentation: http://pandas.pydata.org/pandas-docs/stable/indexing.html#indexing-view-versus-copy\n",
      "  sub[target] = oof_tst.reshape(-1, 1)\n"
     ]
    }
   ],
   "source": [
    "xgb_params = dict()\n",
    "xgb_params['objective'] = 'reg:linear'\n",
    "xgb_params['eval_metric'] = 'rmse'\n",
    "xgb_params['eta'] = 0.02\n",
    "xgb_params['seed'] = SEED\n",
    "xgb_params['silent'] = True  # does help\n",
    "xgb_params['verbose_eval'] = False\n",
    "xgb_params['nrounds'] = 5\n",
    "xgb_params['early_stopping_rounds'] = 100\n",
    "\n",
    "xgb_params['max_depth'] = 11\n",
    "xgb_params['min_child_weight'] = 2\n",
    "xgb_params['colsample_bytree'] = 0.758\n",
    "xgb_params['subsample'] = 0.936\n",
    "xgb_params['gamma'] = 0.715\n",
    "xgb_params['alpha'] = 9.85\n",
    "xgb_params['lambda'] = 1.85\n",
    "xgb_params['rate_drop'] = 0.869\n",
    "\n",
    "xgb_clf = XgbWrapper(seed=SEED, params=xgb_params)\n",
    "results = cross_validate(\n",
    "    full_data=full_data,\n",
    "    clf=xgb_clf,\n",
    "    seed=SEED,\n",
    "    ntrain=ntrain,\n",
    "    ntest=ntest,\n",
    "    features=FEATURES,\n",
    "    target=TARGET,\n",
    "    nfolds=4,\n",
    ")"
   ]
  },
  {
   "cell_type": "code",
   "execution_count": 29,
   "metadata": {},
   "outputs": [
    {
     "name": "stdout",
     "output_type": "stream",
     "text": [
      "1\n"
     ]
    }
   ],
   "source": [
    "print(1)"
   ]
  },
  {
   "cell_type": "code",
   "execution_count": null,
   "metadata": {},
   "outputs": [],
   "source": [
    "print(x)"
   ]
  }
 ],
 "metadata": {
  "kernelspec": {
   "display_name": "Python 3",
   "language": "python",
   "name": "python3"
  },
  "language_info": {
   "codemirror_mode": {
    "name": "ipython",
    "version": 3
   },
   "file_extension": ".py",
   "mimetype": "text/x-python",
   "name": "python",
   "nbconvert_exporter": "python",
   "pygments_lexer": "ipython3",
   "version": "3.6.3"
  }
 },
 "nbformat": 4,
 "nbformat_minor": 2
}
