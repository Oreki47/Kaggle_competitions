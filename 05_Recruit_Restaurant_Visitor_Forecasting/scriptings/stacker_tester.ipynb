{
 "cells": [
  {
   "cell_type": "code",
   "execution_count": 1,
   "metadata": {},
   "outputs": [],
   "source": [
    "import gc\n",
    "import sys\n",
    "import glob\n",
    "import numpy as np\n",
    "import pandas as pd\n",
    "import xgboost as xgb\n",
    "\n",
    "from sklearn.linear_model import Ridge\n",
    "from sklearn.metrics import mean_squared_error\n",
    "\n",
    "sys.path.append(\"../\")\n",
    "from general.utilities import sub_to_csv_stacker\n",
    "from general.preprocess import data_preparation\n",
    "from general.clf_wrappers import Stacker, SklearnWrapper, XgbWrapper\n",
    "from stacker.utilities import search_model\n",
    "from features.f2 import features_set_f2\n",
    "%load_ext autoreload\n",
    "%autoreload 2"
   ]
  },
  {
   "cell_type": "code",
   "execution_count": null,
   "metadata": {},
   "outputs": [],
   "source": [
    "# starts here\n",
    "full_data, ntrain, ntest = data_preparation()\n",
    "features, cat_features = features_set_f2()\n",
    "tgt = pd.read_csv('../data/air_visit_data.csv').visitors.values\n",
    "trn_list = [x for x in glob.glob('../valid/*.csv') if 'cv4' in x]\n",
    "tst_list = [x for x in glob.glob('../submission/*.csv') if 'cv4' in x]\n",
    "\n",
    "trn_series = pd.DataFrame()\n",
    "tst_series = pd.DataFrame()\n",
    "\n",
    "for i, trn in enumerate(trn_list):\n",
    "    temp = pd.read_csv(trn, index_col=['id']).rename(columns={'visitors': ('visitors_'+str(i))})\n",
    "    trn_series = pd.concat([trn_series, temp], axis=1)\n",
    "\n",
    "for i, tst in enumerate(tst_list):\n",
    "    temp = pd.read_csv(tst, index_col=['id']).rename(columns={'visitors': ('visitors_'+str(i))})\n",
    "    tst_series = pd.concat([tst_series, temp], axis=1)\n",
    "\n",
    "# log1p all values\n",
    "tgt = np.log1p(tgt)\n",
    "trn = np.log1p(trn_series.values)\n",
    "tst = np.log1p(tst_series.values)\n",
    "\n",
    "assert(trn_series.shape[0] == tgt.shape[0])"
   ]
  },
  {
   "cell_type": "code",
   "execution_count": 16,
   "metadata": {},
   "outputs": [
    {
     "name": "stdout",
     "output_type": "stream",
     "text": [
      "Best score: 0.468\n",
      "Best parameters set: {'alpha': 100}\n",
      "Ridge(alpha=100, copy_X=True, fit_intercept=True, max_iter=None,\n",
      "   normalize=False, random_state=177, solver='auto', tol=0.001)\n"
     ]
    }
   ],
   "source": [
    "param_grid = {\"alpha\": [0.001,0.01,0.1,1,10,30,100]}\n",
    "ridge_clf = search_model(\n",
    "    trn, tgt, Ridge(random_state=177),\n",
    "    param_grid, n_jobs=1, cv=5, refit=True\n",
    ")\n",
    "\n",
    "ridge_clf_wrap = SklearnWrapper(ridge_clf, params={})\n",
    "ridge_stacker = Stacker(5, ridge_clf_wrap)\n",
    "\n",
    "ridge_pred, ridge_train, ridge_score = ridge_stacker.fit_predict(trn, tgt, tst)\n"
   ]
  },
  {
   "cell_type": "code",
   "execution_count": null,
   "metadata": {},
   "outputs": [
    {
     "name": "stdout",
     "output_type": "stream",
     "text": [
      "Multiple eval metrics have been passed: 'test-rmse' will be used for early stopping.\n",
      "\n",
      "Will train until test-rmse hasn't improved in 50 rounds.\n",
      "Stopping. Best iteration:\n",
      "[458]\ttrain-rmse:0.464242+0.000534541\ttest-rmse:0.469794+0.00156479\n",
      "\n"
     ]
    }
   ],
   "source": [
    "x_trn, x_tst = full_data[:ntrain][features].values, full_data[ntrain:][features].values\n",
    "x_trn = np.hstack([x_trn, trn])\n",
    "x_tst = np.hstack([x_tst, tst])\n",
    "\n",
    "del full_data\n",
    "gc.collect()\n",
    "\n",
    "xgb_stack_params = {}\n",
    "xgb_stack_params['objective'] = 'reg:linear'\n",
    "xgb_stack_params['eta'] = 0.1\n",
    "xgb_stack_params['max_depth'] = 3\n",
    "xgb_stack_params['min_child_weight'] = 1\n",
    "xgb_stack_params['subsample'] = 0.9\n",
    "xgb_stack_params['colsample_bytree'] = 0.2\n",
    "xgb_stack_params['gamma'] = 0.1\n",
    "xgb_stack_params['seed'] = 177\n",
    "xgb_stack_params['silent']: True\n",
    "\n",
    "cv_results = xgb.cv(xgb_stack_params, xgb.DMatrix(x_trn, tgt),\n",
    "                    num_boost_round=1000, nfold=5,\n",
    "                    metrics='rmse',\n",
    "                    seed=177,\n",
    "                    callbacks=[xgb.callback.early_stop(50)],\n",
    "                    verbose_eval=False)\n",
    "\n",
    "xgb_stack_params['nrounds'] = np.argmin(cv_results['test-rmse-mean'].values)+1\n",
    "xgb_clf_wrap = XgbWrapper(seed=177, params=xgb_stack_params)\n",
    "xgb_stacker = Stacker(5, xgb_clf_wrap)\n",
    "\n",
    "xgb_pred, xgb_train, xgb_score = xgb_stacker.fit_predict(x_trn, tgt, x_tst)"
   ]
  },
  {
   "cell_type": "code",
   "execution_count": null,
   "metadata": {},
   "outputs": [],
   "source": [
    "print(1)"
   ]
  },
  {
   "cell_type": "code",
   "execution_count": null,
   "metadata": {},
   "outputs": [],
   "source": [
    "print(xgb)"
   ]
  }
 ],
 "metadata": {
  "kernelspec": {
   "display_name": "Python 3",
   "language": "python",
   "name": "python3"
  },
  "language_info": {
   "codemirror_mode": {
    "name": "ipython",
    "version": 3
   },
   "file_extension": ".py",
   "mimetype": "text/x-python",
   "name": "python",
   "nbconvert_exporter": "python",
   "pygments_lexer": "ipython3",
   "version": "3.6.3"
  }
 },
 "nbformat": 4,
 "nbformat_minor": 2
}
